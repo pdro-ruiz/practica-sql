{
 "cells": [
  {
   "cell_type": "markdown",
   "id": "4a3aadcf-d85f-476e-be87-72ef57fae95a",
   "metadata": {},
   "source": [
    "# Páctica SQL\n",
    "Crea notebook de Jupyter y con la librería de SQLite realiza las siguientes consultas a la base de datos `\"Chinook_Sqlite\"` (archivo proporcionado junto con los apuntes de SQL)."
   ]
  },
  {
   "cell_type": "code",
   "execution_count": 108,
   "id": "24e8e755",
   "metadata": {},
   "outputs": [],
   "source": [
    "# importamos librerias\n",
    "\n",
    "import sqlite3\n",
    "import pandas as pd"
   ]
  },
  {
   "cell_type": "code",
   "execution_count": 109,
   "id": "8216612e",
   "metadata": {},
   "outputs": [],
   "source": [
    "# Conectamos a la base de datos\n",
    "conn = sqlite3.connect('Chinook_Sqlite.sqlite')\n",
    "\n",
    "# Creamos un cursor\n",
    "cur = conn.cursor()"
   ]
  },
  {
   "cell_type": "markdown",
   "id": "d474aa39-1fd7-4720-ac2d-d337ba4ae224",
   "metadata": {},
   "source": [
    "## Actividad 2-1 (Atención al cliente)\n",
    "Trabaja con la tabla Customer.\n",
    "1. Muestra la columna `Email`.\n",
    "2. Muestra la columna `FirstName`.\n",
    "3. Muestra las columnas `FirstName` y `LastName`.\n",
    "4. Muestra las columnas `Address`, `Phone` y `Fax`.\n",
    "5. Muestra todas las columnas."
   ]
  },
  {
   "cell_type": "code",
   "execution_count": 110,
   "id": "1bc3021f",
   "metadata": {},
   "outputs": [],
   "source": [
    "# 1. Muestra la columna `Email`\n",
    "res = cur.execute('SELECT Email FROM Customer')\n",
    "#res.fetchall()   ## Para ver el resultado"
   ]
  },
  {
   "cell_type": "code",
   "execution_count": 111,
   "id": "5cd4ee1c",
   "metadata": {},
   "outputs": [],
   "source": [
    "# 2. Muestra la columna `FirstName`.\n",
    "res = cur.execute('SELECT FirstName FROM Customer')\n",
    "#res.fetchall()   ## Para ver el resultado"
   ]
  },
  {
   "cell_type": "code",
   "execution_count": 112,
   "id": "fb4c2ba6",
   "metadata": {},
   "outputs": [],
   "source": [
    "# 3. Muestra las columnas `FirstName` y `LastName`.\n",
    "res = cur.execute('SELECT FirstName, LastName FROM Customer')\n",
    "#res.fetchall()   ## Para ver el resultado"
   ]
  },
  {
   "cell_type": "code",
   "execution_count": 113,
   "id": "df6c5c66",
   "metadata": {},
   "outputs": [],
   "source": [
    "# 4. Muestra las columnas `Address`, `Phone` y `Fax`.\n",
    "res = cur.execute('SELECT Address, Phone, Fax FROM Customer')\n",
    "#res.fetchall()   ## Para ver el resultado"
   ]
  },
  {
   "cell_type": "code",
   "execution_count": 114,
   "id": "87d9564d",
   "metadata": {},
   "outputs": [],
   "source": [
    "# 5. Muestra todas las columnas.\n",
    "res = cur.execute('SELECT * FROM Customer')\n",
    "#res.fetchall()   ## Para ver el resultado"
   ]
  },
  {
   "cell_type": "markdown",
   "id": "b71b61f0-15d0-4a1e-b475-e21cb84e1b8d",
   "metadata": {},
   "source": [
    "## Actividad 3-1 (Ordenando a mi manera)\n",
    "- Ordena la tabla de géneros (`Genre`) por orden alfabético.\n",
    "- Corta los resultados para que solo se muestren los 6 primeros.\n",
    "\n",
    "Subir Nota:\n",
    "- Muestra las últimas 2 filas de la tabla."
   ]
  },
  {
   "cell_type": "code",
   "execution_count": 115,
   "id": "f5a959db",
   "metadata": {},
   "outputs": [],
   "source": [
    "# - Ordena la tabla de géneros (`Genre`) por orden alfabético.\n",
    "res = cur.execute('SELECT * FROM Genre ORDER BY Name')\n",
    "#res.fetchall()   ## Para ver el resultado"
   ]
  },
  {
   "cell_type": "code",
   "execution_count": 116,
   "id": "43fdfb95",
   "metadata": {},
   "outputs": [],
   "source": [
    "# - Corta los resultados para que solo se muestren los 6 primeros.\n",
    "res = cur.execute('SELECT * FROM Genre ORDER BY Name LIMIT 6')\n",
    "#res.fetchall()   ## Para ver el resultado"
   ]
  },
  {
   "cell_type": "code",
   "execution_count": 117,
   "id": "0a1b64f4",
   "metadata": {},
   "outputs": [],
   "source": [
    "# - Muestra las últimas 2 filas de la tabla.\n",
    "res = cur.execute('SELECT * FROM Genre ORDER BY Name DESC LIMIT 2')\n",
    "#res.fetchall()   ## Para ver el resultado"
   ]
  },
  {
   "cell_type": "markdown",
   "id": "6ecdc8b3-1ec1-401d-87bc-1c1cdcf85e7a",
   "metadata": {},
   "source": [
    "## Actividad 3-2 (En busca del peor cliente)\n",
    "Volvemos a usar la tabla `Customer`.\n",
    "1. Muestra los usuarios que han reportado más de 3 incidencia (columna donde se cuentan es `SupportRepid`)\n",
    "2. Filtra los resultados anteriores por los que viven en Brasil.\n",
    "3. Muestra a los usuarios que tengan un código postal empezado en 7.\n",
    "4. Muestra a los usuarios que tengan un email de hotmail.\n",
    "5. Muestra los usuarios nacidos en Estados Unidos (USA) o Canadá (Canada).\n",
    "6. De los resultados anteriores, muestra los que tengan un email de gmail.\n",
    "7. Muestra al usuario que trabaja en Apple (columna `Company`). Te aviso que no sabes el formato de la compañía, podría ser: Apple SL, Company Apple, APPLE…\n",
    "8. Muestra los usuario que han reportado entre 3 y 4 incidencias."
   ]
  },
  {
   "cell_type": "code",
   "execution_count": 118,
   "id": "cea57550",
   "metadata": {},
   "outputs": [],
   "source": [
    "# 1. Muestra los usuarios que han reportado más de 3 incidencia (columna donde se cuentan es `SupportRepid`)\n",
    "res = cur.execute('SELECT * FROM Customer WHERE SupportRepId > 3')\n",
    "#res.fetchall()   ## Para ver el resultado"
   ]
  },
  {
   "cell_type": "code",
   "execution_count": 119,
   "id": "77aeb3ba",
   "metadata": {},
   "outputs": [],
   "source": [
    "# 2. Filtra los resultados anteriores por los que viven en Brasil.\n",
    "res = cur.execute('SELECT * FROM Customer WHERE SupportRepId > 3 AND Country = \"Brazil\"')\n",
    "#res.fetchall()   ## Para ver el resultado"
   ]
  },
  {
   "cell_type": "code",
   "execution_count": 120,
   "id": "7c8f01aa",
   "metadata": {},
   "outputs": [],
   "source": [
    "# 3. 3. Muestra a los usuarios que tengan un código postal empezado en 7.\n",
    "res = cur.execute('SELECT * FROM Customer WHERE PostalCode LIKE \"7%\"')\n",
    "#res.fetchall()   ## Para ver el resultado"
   ]
  },
  {
   "cell_type": "code",
   "execution_count": 121,
   "id": "6521e644",
   "metadata": {},
   "outputs": [],
   "source": [
    "# 4. Muestra a los usuarios que tengan un email de hotmail.\n",
    "res = cur.execute('SELECT * FROM Customer WHERE Email LIKE \"%hotmail%\"')\n",
    "#res.fetchall()   ## Para ver el resultado"
   ]
  },
  {
   "cell_type": "code",
   "execution_count": 122,
   "id": "27761155",
   "metadata": {},
   "outputs": [],
   "source": [
    "# 5. Muestra los usuarios nacidos en Estados Unidos (USA) o Canadá (Canada).\n",
    "res = cur.execute('SELECT * FROM Customer WHERE Country = \"USA\" OR Country = \"Canada\"')\n",
    "#res.fetchall()   ## Para ver el resultado"
   ]
  },
  {
   "cell_type": "code",
   "execution_count": 123,
   "id": "0e78ec9a",
   "metadata": {},
   "outputs": [],
   "source": [
    "# 6. De los resultados anteriores, muestra los que tengan un email de gmail.\n",
    "res = cur.execute('SELECT * FROM Customer WHERE (Country = \"USA\" OR Country = \"Canada\") AND Email LIKE \"%gmail%\"')\n",
    "#res.fetchall()   ## Para ver el resultado"
   ]
  },
  {
   "cell_type": "code",
   "execution_count": 124,
   "id": "0e713ac0",
   "metadata": {},
   "outputs": [],
   "source": [
    "# 7. Muestra al usuario que trabaja en Apple (columna `Company`). Te aviso que no sabes el formato de la compañía, podría ser: Apple SL, Company Apple, APPLE…\n",
    "res = cur.execute('SELECT * FROM Customer WHERE Company LIKE \"%Apple%\"')\n",
    "#res.fetchall()   ## Para ver el resultado"
   ]
  },
  {
   "cell_type": "code",
   "execution_count": 125,
   "id": "797a46dd",
   "metadata": {},
   "outputs": [],
   "source": [
    "# 8. Muestra los usuario que han reportado entre 3 y 4 incidencias.\n",
    "res = cur.execute('SELECT * FROM Customer WHERE SupportRepId BETWEEN 3 AND 4')\n",
    "#res.fetchall()   ## Para ver el resultado"
   ]
  },
  {
   "cell_type": "markdown",
   "id": "06fdcf20-1cf5-4a4a-8ce5-6c1f3e811e7a",
   "metadata": {},
   "source": [
    "## Actividad 3-3 (Limpieza de personal)\n",
    "Usaremos la tabla `Employee` (empleados).\n",
    "1. Cuenta la cantidad de empleados que hay por ciudad.\n",
    "2. Cuenta la cantidad de empleados que hay por departamento.\n",
    "\n",
    "Subir Nota:\n",
    "1. Muestra la edad de cada empleado.\n",
    "2. Calcula la media de edad por departamento (`Title`).\n",
    "3. Cuenta los empleados que fueron contratados, de media, por año.\n",
    " "
   ]
  },
  {
   "cell_type": "code",
   "execution_count": 126,
   "id": "dcf08d25",
   "metadata": {},
   "outputs": [],
   "source": [
    "# 1. Cuenta la cantidad de empleados que hay por ciudad.\n",
    "res = cur.execute('SELECT City, COUNT(*) FROM Employee GROUP BY City')\n",
    "#res.fetchall()   ## Para ver el resultado"
   ]
  },
  {
   "cell_type": "code",
   "execution_count": 127,
   "id": "8c9456ab",
   "metadata": {},
   "outputs": [],
   "source": [
    "# 2. Cuenta la cantidad de empleados que hay por departamento.\n",
    "res = cur.execute('SELECT Title, COUNT(*) FROM Employee GROUP BY Title')\n",
    "#res.fetchall()   ## Para ver el resultado"
   ]
  },
  {
   "cell_type": "code",
   "execution_count": 128,
   "id": "00a65094",
   "metadata": {},
   "outputs": [],
   "source": [
    "# 1. Muestra la edad de cada empleado.\n",
    "res = cur.execute('''SELECT FirstName, LastName, \n",
    "                        (strftime('%Y', '2024-03-21') - strftime('%Y', BirthDate)) - \n",
    "                        (strftime('%m-%d', '2024-03-21') < strftime('%m-%d', BirthDate)) AS Age\n",
    "                        FROM Employee''')\n",
    "#res.fetchall()   ## Para ver el resultado\n"
   ]
  },
  {
   "cell_type": "code",
   "execution_count": 129,
   "id": "9be08095",
   "metadata": {},
   "outputs": [],
   "source": [
    "# 2. Calcula la media de edad por departamento (`Title`).\n",
    "res = cur.execute('''SELECT Title, \n",
    "                        AVG((strftime('%Y', '2024-03-21') - strftime('%Y', BirthDate)) - \n",
    "                        (strftime('%m-%d', '2024-03-21') < strftime('%m-%d', BirthDate))) AS AvgAge\n",
    "                        FROM Employee\n",
    "                        GROUP BY Title''')\n",
    "#res.fetchall()   ## Para ver el resultado"
   ]
  },
  {
   "cell_type": "code",
   "execution_count": 130,
   "id": "22d6c392",
   "metadata": {},
   "outputs": [],
   "source": [
    "# 3. Cuenta los empleados que fueron contratados, de media, por año.\n",
    "res = cur.execute('''SELECT strftime('%Y', HireDate) AS Year, \n",
    "                        COUNT(*) AS NumHired \n",
    "                        FROM Employee \n",
    "                        GROUP BY Year''')\n",
    "#res.fetchall()   ## Para ver el resultado"
   ]
  },
  {
   "cell_type": "markdown",
   "id": "52cf19d2-303f-413a-a252-ba3dbf5fe25f",
   "metadata": {},
   "source": [
    "## Actividad 4-1 (Experto en canciones)\n",
    "Volvemos a usar la tabla `Track` (canción).\n",
    "1. Muestra todas las canciones con el `MediaType` Protected AAC audio file.\n",
    "2. Muestra todas las canciones que contengan algún `MediaType` con AAC.\n",
    "3. Muestra todas las canciones que duren más de 2 minutos.\n",
    "4. Muestra todas las canciones de Jazz.\n",
    "5. Averigua cual es la canción más pesada.\n",
    "\n",
    "Subir Nota:\n",
    "1. ¿Cuantos discos tiene Led Zeppelin?\n",
    "2. De entre sus discos, ¿cuanto cuesta el disco Houses Of The Holy?"
   ]
  },
  {
   "cell_type": "code",
   "execution_count": 131,
   "id": "20f0fa74",
   "metadata": {},
   "outputs": [],
   "source": [
    "# 1. Muestra todas las canciones con el `MediaType` Protected AAC audio file.\n",
    "res = cur.execute('SELECT * FROM Track WHERE MediaTypeId = 2')\n",
    "#res.fetchall()   ## Para ver el resultado"
   ]
  },
  {
   "cell_type": "code",
   "execution_count": 132,
   "id": "95adcbd9",
   "metadata": {},
   "outputs": [],
   "source": [
    "# 2. Muestra todas las canciones que contengan algún `MediaType` con AAC.\n",
    "res = cur.execute('''SELECT * FROM Track WHERE MediaTypeId \n",
    "                        IN (SELECT MediaTypeId FROM MediaType \n",
    "                        WHERE Name LIKE \"%AAC%\")''')\n",
    "#res.fetchall()   ## Para ver el resultado"
   ]
  },
  {
   "cell_type": "code",
   "execution_count": 133,
   "id": "984829b5",
   "metadata": {},
   "outputs": [],
   "source": [
    "# 3. Muestra todas las canciones que duren más de 2 minutos.\n",
    "res = cur.execute('SELECT * FROM Track WHERE Milliseconds > 120000')\n",
    "#res.fetchall()   ## Para ver el resultado"
   ]
  },
  {
   "cell_type": "code",
   "execution_count": 134,
   "id": "98c632ef",
   "metadata": {},
   "outputs": [],
   "source": [
    "# 4. Muestra todas las canciones de Jazz.\n",
    "res = cur.execute('''SELECT * FROM Track WHERE GenreId \n",
    "                        IN (SELECT GenreId FROM Genre \n",
    "                        WHERE Name LIKE \"%Jazz%\")''')\n",
    "#res.fetchall()   ## Para ver el resultado"
   ]
  },
  {
   "cell_type": "code",
   "execution_count": 135,
   "id": "bf45f3b7",
   "metadata": {},
   "outputs": [],
   "source": [
    "# 5. Averigua cual es la canción más pesada.\n",
    "res = cur.execute('SELECT * FROM Track ORDER BY Bytes DESC LIMIT 1')\n",
    "#res.fetchall()   ## Para ver el resultado"
   ]
  },
  {
   "cell_type": "code",
   "execution_count": 136,
   "id": "a19c58da",
   "metadata": {},
   "outputs": [
    {
     "data": {
      "text/plain": [
       "[(14,)]"
      ]
     },
     "execution_count": 136,
     "metadata": {},
     "output_type": "execute_result"
    }
   ],
   "source": [
    "# 1. ¿Cuantos discos tiene Led Zeppelin?\n",
    "res = cur.execute('''SELECT COUNT(*) FROM Album WHERE ArtistId \n",
    "                        IN (SELECT ArtistId FROM Artist \n",
    "                        WHERE Name LIKE \"%Led Zeppelin%\")''')\n",
    "res.fetchall()   ## Para ver el resultado"
   ]
  },
  {
   "cell_type": "code",
   "execution_count": 137,
   "id": "1705616a",
   "metadata": {},
   "outputs": [
    {
     "data": {
      "text/plain": [
       "[(7.920000000000001,)]"
      ]
     },
     "execution_count": 137,
     "metadata": {},
     "output_type": "execute_result"
    }
   ],
   "source": [
    "# 2. De entre sus discos, ¿cuanto cuesta el disco Houses Of The Holy?\n",
    "res = cur.execute('''SELECT SUM(Track.UnitPrice) FROM Track WHERE AlbumId \n",
    "                        IN (SELECT AlbumId FROM Album \n",
    "                        WHERE Title = \"Houses Of The Holy\")''')\n",
    "res.fetchall()   ## Para ver el resultado"
   ]
  },
  {
   "cell_type": "markdown",
   "id": "b12308a7-c818-4022-830e-0e4d4f4a017f",
   "metadata": {},
   "source": [
    "## Actividad 5-1 (Solo compañías)\n",
    "De la tabla Customer crea una vista llamada `Customer_with_companies`, donde estarán incluidos todos los resultados salvo cuando Company sea `NULL`. A partir de la vista realiza las siguientes acciones.\n",
    "1. Ordena los resultados por orden alfabético de `Company`.\n",
    "2. Muestra que compañías son de Brazil."
   ]
  },
  {
   "cell_type": "code",
   "execution_count": 138,
   "id": "3ee62bff",
   "metadata": {},
   "outputs": [],
   "source": [
    "# 1. Ordena los resultados por orden alfabético de `Company`.\n",
    "res = cur.execute('SELECT * FROM Customer ORDER BY Company')\n",
    "#res.fetchall()   ## Para ver el resultado"
   ]
  },
  {
   "cell_type": "code",
   "execution_count": 139,
   "id": "3ebb67cb",
   "metadata": {},
   "outputs": [],
   "source": [
    "# 2. Muestra que compañías son de Brazil.\n",
    "res = cur.execute('SELECT Company FROM Customer WHERE Country = \"Brazil\"')\n",
    "#res.fetchall()   ## Para ver el resultado"
   ]
  },
  {
   "cell_type": "markdown",
   "id": "14522796-5604-4fd3-9250-ce8b47d0e2b2",
   "metadata": {},
   "source": [
    "## Actividad 6-1 (Dame la factura)\n",
    "De la tabla `Track`, consigue la siguiente información.\n",
    "1. Cuál es el título de la canción que menos pesa (`Bytes`).\n",
    "2. Cuál es el título de la canción que más dura (`Miliseconds`).\n",
    "3. Cuántas canciones cuestan 1$ o más.\n",
    "4. Cuántas canciones hay de Queen.\n",
    "5. Cuál es la media de duración entre todas las canciones.\n",
    "6. Cuál es la media de peso entre todas las canciones de U2.\n",
    "7. Cuántas canciones esta Bill Berry como Composer (`Compositor`).\n",
    "8. Un Mb son: Bite / 1024 / 1024. Muestra todos los Tracks calculando, y renombrando, la columna Bytes en Mb.\n",
    " "
   ]
  },
  {
   "cell_type": "code",
   "execution_count": 140,
   "id": "e4298f5e",
   "metadata": {},
   "outputs": [
    {
     "data": {
      "text/plain": [
       "[('É Uma Partida De Futebol',)]"
      ]
     },
     "execution_count": 140,
     "metadata": {},
     "output_type": "execute_result"
    }
   ],
   "source": [
    "# 1. Cuál es el título de la canción que menos pesa (`Bytes`).\n",
    "res = cur.execute('SELECT Name FROM Track ORDER BY Bytes LIMIT 1')\n",
    "res.fetchall()   ## Para ver el resultado"
   ]
  },
  {
   "cell_type": "code",
   "execution_count": 141,
   "id": "b12b91fa",
   "metadata": {},
   "outputs": [
    {
     "data": {
      "text/plain": [
       "[('Occupation / Precipice',)]"
      ]
     },
     "execution_count": 141,
     "metadata": {},
     "output_type": "execute_result"
    }
   ],
   "source": [
    "# 2. Cuál es el título de la canción que más dura (`Miliseconds`).\n",
    "res = cur.execute('SELECT Name FROM Track ORDER BY Milliseconds DESC LIMIT 1')\n",
    "res.fetchall()   ## Para ver el resultado"
   ]
  },
  {
   "cell_type": "code",
   "execution_count": 142,
   "id": "ae2c1276",
   "metadata": {},
   "outputs": [
    {
     "data": {
      "text/plain": [
       "[(213,)]"
      ]
     },
     "execution_count": 142,
     "metadata": {},
     "output_type": "execute_result"
    }
   ],
   "source": [
    "# 3. Cuántas canciones cuestan 1$ o más.\n",
    "res = cur.execute('SELECT COUNT(*) FROM Track WHERE UnitPrice >= 1')\n",
    "res.fetchall()   ## Para ver el resultado"
   ]
  },
  {
   "cell_type": "code",
   "execution_count": 143,
   "id": "833f8179",
   "metadata": {},
   "outputs": [
    {
     "data": {
      "text/plain": [
       "[(45,)]"
      ]
     },
     "execution_count": 143,
     "metadata": {},
     "output_type": "execute_result"
    }
   ],
   "source": [
    "# 4. Cuántas canciones hay de Queen.\n",
    "res = cur.execute('''SELECT COUNT(*) FROM Track WHERE AlbumId \n",
    "                    IN (SELECT AlbumId FROM Album WHERE ArtistId \n",
    "                        IN (SELECT ArtistId FROM Artist WHERE Name = \"Queen\"))''')\n",
    "res.fetchall()   ## Para ver el resultado"
   ]
  },
  {
   "cell_type": "code",
   "execution_count": 144,
   "id": "95f673eb",
   "metadata": {},
   "outputs": [
    {
     "data": {
      "text/plain": [
       "[(393599.2121039109,)]"
      ]
     },
     "execution_count": 144,
     "metadata": {},
     "output_type": "execute_result"
    }
   ],
   "source": [
    "# 5. Cuál es la media de duración entre todas las canciones.\n",
    "res = cur.execute('SELECT AVG(Milliseconds) FROM Track')\n",
    "res.fetchall()   ## Para ver el resultado"
   ]
  },
  {
   "cell_type": "code",
   "execution_count": 145,
   "id": "3a2a050f",
   "metadata": {},
   "outputs": [
    {
     "data": {
      "text/plain": [
       "[(7978789.985185185,)]"
      ]
     },
     "execution_count": 145,
     "metadata": {},
     "output_type": "execute_result"
    }
   ],
   "source": [
    "# 6. Cuál es la media de peso entre todas las canciones de U2.\n",
    "res = cur.execute('''SELECT AVG(Bytes) FROM Track WHERE AlbumId \n",
    "                        IN (SELECT AlbumId FROM Album WHERE ArtistId \n",
    "                            IN (SELECT ArtistId FROM Artist WHERE Name = \"U2\"))''')\n",
    "res.fetchall()  ## Para ver el resultado"
   ]
  },
  {
   "cell_type": "code",
   "execution_count": 146,
   "id": "f824874f",
   "metadata": {},
   "outputs": [
    {
     "data": {
      "text/plain": [
       "[(0,)]"
      ]
     },
     "execution_count": 146,
     "metadata": {},
     "output_type": "execute_result"
    }
   ],
   "source": [
    "# 7. Cuántas canciones esta Bill Berry como Composer (`Compositor`).\n",
    "res = cur.execute('SELECT COUNT(*) FROM Track WHERE Composer = \"Bill Berry\"')\n",
    "res.fetchall()   ## Para ver el resultado"
   ]
  },
  {
   "cell_type": "code",
   "execution_count": 147,
   "id": "b2ba472b",
   "metadata": {},
   "outputs": [],
   "source": [
    "# 8. Un Mb son: Bite / 1024 / 1024. Muestra todos los Tracks calculando, y renombrando, la columna Bytes en Mb.\n",
    "res = cur.execute('SELECT Name, Bytes / 1024 / 1024 AS Mb FROM Track')\n",
    "#res.fetchall()   ## Para ver el resultado"
   ]
  },
  {
   "cell_type": "markdown",
   "id": "fafd061b-c55c-4321-a410-911a24807fa3",
   "metadata": {},
   "source": [
    "## Actividad 7-1 (Buscando facturas)\n",
    "De la tabla `Invoice`, consigue la siguiente información.\n",
    "1. Muestra:  `InvoiceId`, `nombre del cliente` y `BillingCountry`.\n",
    "2. Ordena de mayor a menor por `Total`.\n",
    "3. Cual es el país que más a facturado."
   ]
  },
  {
   "cell_type": "code",
   "execution_count": 148,
   "id": "4ec8f189",
   "metadata": {},
   "outputs": [],
   "source": [
    "# 1. Muestra:  `InvoiceId`, `nombre del cliente` y `BillingCountry`.\n",
    "res = cur.execute('''SELECT InvoiceId, Customer.FirstName, BillingCountry FROM Invoice \n",
    "                        JOIN Customer ON Invoice.CustomerId = Customer.CustomerId''')\n",
    "#res.fetchall()   ## Para ver el resultado"
   ]
  },
  {
   "cell_type": "code",
   "execution_count": 149,
   "id": "a6682e6d",
   "metadata": {},
   "outputs": [],
   "source": [
    "# 2. Ordena de mayor a menor por `Total`.\n",
    "res = cur.execute('SELECT * FROM Invoice ORDER BY Total DESC')\n",
    "#res.fetchall()   ## Para ver el resultado"
   ]
  },
  {
   "cell_type": "code",
   "execution_count": 150,
   "id": "1599850d",
   "metadata": {},
   "outputs": [],
   "source": [
    "# 3. Cual es el país que más a facturado.\n",
    "res = cur.execute('''SELECT BillingCountry, SUM(Total) FROM Invoice \n",
    "                        GROUP BY BillingCountry \n",
    "                        ORDER BY SUM(Total) DESC LIMIT 1''')\n",
    "#res.fetchall()   ## Para ver el resultado"
   ]
  },
  {
   "cell_type": "markdown",
   "id": "97c6e736-662d-48da-b270-0403c0c32690",
   "metadata": {},
   "source": [
    "## Actividad 8-1 (Alimentado la productora)\n",
    "1. Añade 5 artistas que te gusten en la tabla `Artist`.\n",
    "2. Introduce el `MediaType` Wav.\n",
    "3. Crea 2 discos que estén relacionados con los artistas que has creado."
   ]
  },
  {
   "cell_type": "code",
   "execution_count": 152,
   "id": "5bbbec31",
   "metadata": {},
   "outputs": [
    {
     "ename": "OperationalError",
     "evalue": "database is locked",
     "output_type": "error",
     "traceback": [
      "\u001b[0;31m---------------------------------------------------------------------------\u001b[0m",
      "\u001b[0;31mOperationalError\u001b[0m                          Traceback (most recent call last)",
      "Cell \u001b[0;32mIn[152], line 2\u001b[0m\n\u001b[1;32m      1\u001b[0m \u001b[38;5;66;03m# 1. Añade 5 artistas que te gusten en la tabla `Artist`.\u001b[39;00m\n\u001b[0;32m----> 2\u001b[0m res \u001b[38;5;241m=\u001b[39m cur\u001b[38;5;241m.\u001b[39mexecute(\u001b[38;5;124m'''\u001b[39m\u001b[38;5;124mINSERT INTO Artist (Name) VALUES (\u001b[39m\u001b[38;5;124m\"\u001b[39m\u001b[38;5;124mQueen\u001b[39m\u001b[38;5;124m\"\u001b[39m\u001b[38;5;124m), \u001b[39m\n\u001b[1;32m      3\u001b[0m \u001b[38;5;124m                        (\u001b[39m\u001b[38;5;124m\"\u001b[39m\u001b[38;5;124mThe Beatles\u001b[39m\u001b[38;5;124m\"\u001b[39m\u001b[38;5;124m), \u001b[39m\n\u001b[1;32m      4\u001b[0m \u001b[38;5;124m                        (\u001b[39m\u001b[38;5;124m\"\u001b[39m\u001b[38;5;124mThe Rolling Stones\u001b[39m\u001b[38;5;124m\"\u001b[39m\u001b[38;5;124m), \u001b[39m\n\u001b[1;32m      5\u001b[0m \u001b[38;5;124m                        (\u001b[39m\u001b[38;5;124m\"\u001b[39m\u001b[38;5;124mLed Zeppelin\u001b[39m\u001b[38;5;124m\"\u001b[39m\u001b[38;5;124m), \u001b[39m\n\u001b[1;32m      6\u001b[0m \u001b[38;5;124m                        (\u001b[39m\u001b[38;5;124m\"\u001b[39m\u001b[38;5;124mPink Floyd\u001b[39m\u001b[38;5;124m\"\u001b[39m\u001b[38;5;124m)\u001b[39m\u001b[38;5;124m'''\u001b[39m)\n",
      "\u001b[0;31mOperationalError\u001b[0m: database is locked"
     ]
    }
   ],
   "source": [
    "# 1. Añade 5 artistas que te gusten en la tabla `Artist`.\n",
    "res = cur.execute('''INSERT INTO Artist (Name) VALUES (\"Queen\"), \n",
    "                        (\"The Beatles\"), \n",
    "                        (\"The Rolling Stones\"), \n",
    "                        (\"Led Zeppelin\"), \n",
    "                        (\"Pink Floyd\")''')\n"
   ]
  },
  {
   "cell_type": "code",
   "execution_count": 153,
   "id": "5fa74ebb",
   "metadata": {},
   "outputs": [
    {
     "ename": "OperationalError",
     "evalue": "database is locked",
     "output_type": "error",
     "traceback": [
      "\u001b[0;31m---------------------------------------------------------------------------\u001b[0m",
      "\u001b[0;31mOperationalError\u001b[0m                          Traceback (most recent call last)",
      "Cell \u001b[0;32mIn[153], line 2\u001b[0m\n\u001b[1;32m      1\u001b[0m \u001b[38;5;66;03m# 2. Introduce el `MediaType` Wav.\u001b[39;00m\n\u001b[0;32m----> 2\u001b[0m res \u001b[38;5;241m=\u001b[39m cur\u001b[38;5;241m.\u001b[39mexecute(\u001b[38;5;124m'\u001b[39m\u001b[38;5;124mINSERT INTO MediaType (Name) VALUES (\u001b[39m\u001b[38;5;124m\"\u001b[39m\u001b[38;5;124mWav\u001b[39m\u001b[38;5;124m\"\u001b[39m\u001b[38;5;124m)\u001b[39m\u001b[38;5;124m'\u001b[39m)\n",
      "\u001b[0;31mOperationalError\u001b[0m: database is locked"
     ]
    }
   ],
   "source": [
    "# 2. Introduce el `MediaType` Wav.\n",
    "res = cur.execute('INSERT INTO MediaType (Name) VALUES (\"Wav\")')"
   ]
  },
  {
   "cell_type": "code",
   "execution_count": null,
   "id": "beacbcac",
   "metadata": {},
   "outputs": [],
   "source": [
    "# 3. Crea 2 discos que estén relacionados con los artistas que has creado.\n"
   ]
  },
  {
   "cell_type": "markdown",
   "id": "af5e8efc-e4e2-43bf-835f-9f9f40a87731",
   "metadata": {},
   "source": [
    "## Actividad 9-1 (Artistas desaparecidos)\n",
    "Volvemos a usar la tabla `Artist` (canción). (usa PRAGMA foreign_keys = OFF para desactivar la comprobación)\n",
    "- Borra a U2.\n",
    "- Borra los artistas que tengan en su nombre el símbolo &.\n",
    "- Borra los artistas con una Id entre 201 y 230.\n",
    "- Borra toda la tabla de `Track`."
   ]
  },
  {
   "cell_type": "code",
   "execution_count": null,
   "id": "1f2b4895",
   "metadata": {},
   "outputs": [],
   "source": [
    "# - Borra a U2.\n",
    "res = cur.execute('DELETE FROM Artist WHERE Name = \"U2\"')\n",
    "#res.fetchall()   ## Para ver el resultado"
   ]
  },
  {
   "cell_type": "code",
   "execution_count": null,
   "id": "e8a5ee11",
   "metadata": {},
   "outputs": [],
   "source": [
    "# - Borra los artistas que tengan en su nombre el símbolo &.\n",
    "res = cur.execute('DELETE FROM Artist WHERE Name LIKE \"%&%\"')\n",
    "#res.fetchall()   ## Para ver el resultado"
   ]
  },
  {
   "cell_type": "code",
   "execution_count": null,
   "id": "f1aafc00",
   "metadata": {},
   "outputs": [],
   "source": [
    "# - Borra los artistas con una Id entre 201 y 230.\n",
    "res = cur.execute('DELETE FROM Artist WHERE ArtistId BETWEEN 201 AND 230')\n",
    "#res.fetchall()   ## Para ver el resultado"
   ]
  },
  {
   "cell_type": "code",
   "execution_count": null,
   "id": "6911de54",
   "metadata": {},
   "outputs": [],
   "source": [
    "# - Borra toda la tabla de `Track`.\n",
    "res = cur.execute('DELETE FROM Track')\n",
    "#res.fetchall()   ## Para ver el resultado"
   ]
  },
  {
   "cell_type": "markdown",
   "id": "c548240f-a0d8-4aaf-ae72-1297cb04f539",
   "metadata": {},
   "source": [
    "## Actividad 10-1 (Se acabaron las rebajas)\n",
    "Volvemos a usar la tabla `Track` (canción).\n",
    "- Sube el precio de todas las canciones de 0.99 a 2.99.\n",
    "- Sube el precio de todas las canciones de 1.99 a 4.99.\n",
    "- Cambia el Compositor (`Composer`) por Sara del `TrackId` número 2000.\n",
    "- Cambia el Compositor (`Composer`) por clasico de todas las canciones que empiecen con el nombre Concerto."
   ]
  },
  {
   "cell_type": "code",
   "execution_count": null,
   "id": "10cf1115",
   "metadata": {},
   "outputs": [],
   "source": [
    "# - Sube el precio de todas las canciones de 0.99 a 2.99.\n",
    "res = cur.execute('UPDATE Track SET UnitPrice = 2.99 WHERE UnitPrice = 0.99')"
   ]
  },
  {
   "cell_type": "code",
   "execution_count": null,
   "id": "09225a7c",
   "metadata": {},
   "outputs": [],
   "source": [
    "# - Sube el precio de todas las canciones de 1.99 a 4.99.\n",
    "res = cur.execute('UPDATE Track SET UnitPrice = 4.99 WHERE UnitPrice = 1.99')"
   ]
  },
  {
   "cell_type": "code",
   "execution_count": null,
   "id": "a07b0f69",
   "metadata": {},
   "outputs": [],
   "source": [
    "# - Cambia el Compositor (`Composer`) por Sara del `TrackId` número 2000.\n",
    "res = cur.execute('UPDATE Track SET Composer = \"Sara\" WHERE TrackId = 2000')"
   ]
  },
  {
   "cell_type": "code",
   "execution_count": null,
   "id": "bfc6d96a",
   "metadata": {},
   "outputs": [],
   "source": [
    "# - Cambia el Compositor (`Composer`) por clasico de todas las canciones que empiecen con el nombre Concerto.\n",
    "res = cur.execute('UPDATE Track SET Composer = \"Clasico\" WHERE Name LIKE \"Concerto%\"')"
   ]
  },
  {
   "cell_type": "markdown",
   "id": "9696408d",
   "metadata": {},
   "source": [
    "----"
   ]
  },
  {
   "cell_type": "code",
   "execution_count": null,
   "metadata": {},
   "outputs": [],
   "source": [
    "# Cerramos conexión\n",
    "conn.close()"
   ]
  }
 ],
 "metadata": {
  "kernelspec": {
   "display_name": "Python 3 (ipykernel)",
   "language": "python",
   "name": "python3"
  },
  "language_info": {
   "codemirror_mode": {
    "name": "ipython",
    "version": 3
   },
   "file_extension": ".py",
   "mimetype": "text/x-python",
   "name": "python",
   "nbconvert_exporter": "python",
   "pygments_lexer": "ipython3",
   "version": "3.11.5"
  }
 },
 "nbformat": 4,
 "nbformat_minor": 5
}
