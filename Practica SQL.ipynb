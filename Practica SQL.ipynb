{
 "cells": [
  {
   "cell_type": "markdown",
   "id": "4a3aadcf-d85f-476e-be87-72ef57fae95a",
   "metadata": {},
   "source": [
    "# Páctica SQL\n",
    "Crea notebook de Jupyter y con la librería de SQLite realiza las siguientes consultas a la base de datos `\"Chinook_Sqlite\"` (archivo proporcionado junto con los apuntes de SQL)."
   ]
  },
  {
   "cell_type": "code",
   "execution_count": null,
   "id": "24e8e755",
   "metadata": {},
   "outputs": [],
   "source": []
  },
  {
   "cell_type": "markdown",
   "id": "d474aa39-1fd7-4720-ac2d-d337ba4ae224",
   "metadata": {},
   "source": [
    "## Actividad 2-1 (Atención al cliente)\n",
    "Trabaja con la tabla Customer.\n",
    "1. Muestra la columna `Email`.\n",
    "2. Muestra la columna `FirstName`.\n",
    "3. Muestra las columnas `FirstName` y `LastName`.\n",
    "4. Muestra las columnas `Address`, `Phone` y `Fax`.\n",
    "5. Muestra todas las columnas."
   ]
  },
  {
   "cell_type": "code",
   "execution_count": null,
   "id": "1bc3021f",
   "metadata": {},
   "outputs": [],
   "source": [
    "# 1. Muestra la columna `Email`"
   ]
  },
  {
   "cell_type": "code",
   "execution_count": null,
   "id": "5cd4ee1c",
   "metadata": {},
   "outputs": [],
   "source": [
    "# 2. Muestra la columna `FirstName`."
   ]
  },
  {
   "cell_type": "code",
   "execution_count": null,
   "id": "fb4c2ba6",
   "metadata": {},
   "outputs": [],
   "source": [
    "# 3. Muestra las columnas `FirstName` y `LastName`."
   ]
  },
  {
   "cell_type": "code",
   "execution_count": null,
   "id": "df6c5c66",
   "metadata": {},
   "outputs": [],
   "source": [
    "# 4. Muestra las columnas `Address`, `Phone` y `Fax`."
   ]
  },
  {
   "cell_type": "code",
   "execution_count": null,
   "id": "87d9564d",
   "metadata": {},
   "outputs": [],
   "source": [
    "# 5. Muestra todas las columnas."
   ]
  },
  {
   "cell_type": "markdown",
   "id": "b71b61f0-15d0-4a1e-b475-e21cb84e1b8d",
   "metadata": {},
   "source": [
    "## Actividad 3-1 (Ordenando a mi manera)\n",
    "- Ordena la tabla de géneros (`Genre`) por orden alfabético.\n",
    "- Corta los resultados para que solo se muestren los 6 primeros.\n",
    "\n",
    "Subir Nota:\n",
    "- Muestra las últimas 2 filas de la tabla."
   ]
  },
  {
   "cell_type": "code",
   "execution_count": null,
   "id": "f5a959db",
   "metadata": {},
   "outputs": [],
   "source": [
    "# - Ordena la tabla de géneros (`Genre`) por orden alfabético."
   ]
  },
  {
   "cell_type": "code",
   "execution_count": null,
   "id": "43fdfb95",
   "metadata": {},
   "outputs": [],
   "source": [
    "# - Corta los resultados para que solo se muestren los 6 primeros."
   ]
  },
  {
   "cell_type": "code",
   "execution_count": null,
   "id": "0a1b64f4",
   "metadata": {},
   "outputs": [],
   "source": [
    "# - Muestra las últimas 2 filas de la tabla."
   ]
  },
  {
   "cell_type": "markdown",
   "id": "6ecdc8b3-1ec1-401d-87bc-1c1cdcf85e7a",
   "metadata": {},
   "source": [
    "## Actividad 3-2 (En busca del peor cliente)\n",
    "Volvemos a usar la tabla `Customer`.\n",
    "1. Muestra los usuarios que han reportado más de 3 incidencia (columna donde se cuentan es `SupportRepid`)\n",
    "2. Filtra los resultados anteriores por los que viven en Brasil.\n",
    "3. Muestra a los usuarios que tengan un código postal empezado en 7.\n",
    "4. Muestra a los usuarios que tengan un email de hotmail.\n",
    "5. Muestra los usuarios nacidos en Estados Unidos (USA) o Canadá (Canada).\n",
    "6. De los resultados anteriores, muestra los que tengan un email de gmail.\n",
    "7. Muestra al usuario que trabaja en Apple (columna `Company`). Te aviso que no sabes el formato de la compañía, podría ser: Apple SL, Company Apple, APPLE…\n",
    "8. Muestra los usuario que han reportado entre 3 y 4 incidencias."
   ]
  },
  {
   "cell_type": "code",
   "execution_count": null,
   "id": "cea57550",
   "metadata": {},
   "outputs": [],
   "source": [
    "# 1. Muestra los usuarios que han reportado más de 3 incidencia (columna donde se cuentan es `SupportRepid`)\n"
   ]
  },
  {
   "cell_type": "code",
   "execution_count": null,
   "id": "77aeb3ba",
   "metadata": {},
   "outputs": [],
   "source": [
    "# 2. Filtra los resultados anteriores por los que viven en Brasil.\n"
   ]
  },
  {
   "cell_type": "code",
   "execution_count": null,
   "id": "7c8f01aa",
   "metadata": {},
   "outputs": [],
   "source": [
    "# 3. 3. Muestra a los usuarios que tengan un código postal empezado en 7.\n"
   ]
  },
  {
   "cell_type": "code",
   "execution_count": null,
   "id": "6521e644",
   "metadata": {},
   "outputs": [],
   "source": [
    "# 4. Muestra a los usuarios que tengan un email de hotmail.\n"
   ]
  },
  {
   "cell_type": "code",
   "execution_count": null,
   "id": "27761155",
   "metadata": {},
   "outputs": [],
   "source": [
    "# 5. Muestra los usuarios nacidos en Estados Unidos (USA) o Canadá (Canada).\n"
   ]
  },
  {
   "cell_type": "code",
   "execution_count": null,
   "id": "0e78ec9a",
   "metadata": {},
   "outputs": [],
   "source": [
    "# 6. De los resultados anteriores, muestra los que tengan un email de gmail.\n"
   ]
  },
  {
   "cell_type": "code",
   "execution_count": null,
   "id": "0e713ac0",
   "metadata": {},
   "outputs": [],
   "source": [
    "# 7. Muestra al usuario que trabaja en Apple (columna `Company`). Te aviso que no sabes el formato de la compañía, podría ser: Apple SL, Company Apple, APPLE…\n"
   ]
  },
  {
   "cell_type": "code",
   "execution_count": null,
   "id": "797a46dd",
   "metadata": {},
   "outputs": [],
   "source": [
    "# 8. Muestra los usuario que han reportado entre 3 y 4 incidencias."
   ]
  },
  {
   "cell_type": "markdown",
   "id": "06fdcf20-1cf5-4a4a-8ce5-6c1f3e811e7a",
   "metadata": {},
   "source": [
    "## Actividad 3-3 (Limpieza de personal)\n",
    "Usaremos la tabla `Employee` (empleados).\n",
    "1. Cuenta la cantidad de empleados que hay por ciudad.\n",
    "2. Cuenta la cantidad de empleados que hay por departamento.\n",
    "\n",
    "Subir Nota:\n",
    "1. Muestra la edad de cada empleado.\n",
    "2. Calcula la media de edad por departamento (`Title`).\n",
    "3. Cuenta los empleados que fueron contratados, de media, por año.\n",
    " "
   ]
  },
  {
   "cell_type": "code",
   "execution_count": null,
   "id": "dcf08d25",
   "metadata": {},
   "outputs": [],
   "source": [
    "# 1. Cuenta la cantidad de empleados que hay por ciudad.\n"
   ]
  },
  {
   "cell_type": "code",
   "execution_count": null,
   "id": "8c9456ab",
   "metadata": {},
   "outputs": [],
   "source": [
    "# 2. Cuenta la cantidad de empleados que hay por departamento.\n"
   ]
  },
  {
   "cell_type": "code",
   "execution_count": null,
   "id": "00a65094",
   "metadata": {},
   "outputs": [],
   "source": [
    "# 1. Muestra la edad de cada empleado.\n"
   ]
  },
  {
   "cell_type": "code",
   "execution_count": null,
   "id": "9be08095",
   "metadata": {},
   "outputs": [],
   "source": [
    "# 2. Calcula la media de edad por departamento (`Title`).\n"
   ]
  },
  {
   "cell_type": "code",
   "execution_count": null,
   "id": "22d6c392",
   "metadata": {},
   "outputs": [],
   "source": [
    "# 3. Cuenta los empleados que fueron contratados, de media, por año."
   ]
  },
  {
   "cell_type": "markdown",
   "id": "52cf19d2-303f-413a-a252-ba3dbf5fe25f",
   "metadata": {},
   "source": [
    "## Actividad 4-1 (Experto en canciones)\n",
    "Volvemos a usar la tabla `Track` (canción).\n",
    "1. Muestra todas las canciones con el `MediaType` Protected AAC audio file.\n",
    "2. Muestra todas las canciones que contengan algún `MediaType` con AAC.\n",
    "3. Muestra todas las canciones que duren más de 2 minutos.\n",
    "4. Muestra todas las canciones de Jazz.\n",
    "5. Averigua cual es la canción más pesada.\n",
    "\n",
    "Subir Nota:\n",
    "1. ¿Cuantos discos tiene Led Zeppelin?\n",
    "2. De entre sus discos, ¿cuanto cuesta el disco Houses Of The Holy?"
   ]
  },
  {
   "cell_type": "code",
   "execution_count": null,
   "id": "20f0fa74",
   "metadata": {},
   "outputs": [],
   "source": [
    "# 1. Muestra todas las canciones con el `MediaType` Protected AAC audio file.\n"
   ]
  },
  {
   "cell_type": "code",
   "execution_count": null,
   "id": "95adcbd9",
   "metadata": {},
   "outputs": [],
   "source": [
    "# 2. Muestra todas las canciones que contengan algún `MediaType` con AAC.\n"
   ]
  },
  {
   "cell_type": "code",
   "execution_count": null,
   "id": "984829b5",
   "metadata": {},
   "outputs": [],
   "source": [
    "# 3. Muestra todas las canciones que duren más de 2 minutos.\n"
   ]
  },
  {
   "cell_type": "code",
   "execution_count": null,
   "id": "98c632ef",
   "metadata": {},
   "outputs": [],
   "source": [
    "# 4. Muestra todas las canciones de Jazz.\n"
   ]
  },
  {
   "cell_type": "code",
   "execution_count": null,
   "id": "bf45f3b7",
   "metadata": {},
   "outputs": [],
   "source": [
    "# 5. Averigua cual es la canción más pesada.\n"
   ]
  },
  {
   "cell_type": "code",
   "execution_count": null,
   "id": "a19c58da",
   "metadata": {},
   "outputs": [],
   "source": [
    "# 1. ¿Cuantos discos tiene Led Zeppelin?\n"
   ]
  },
  {
   "cell_type": "code",
   "execution_count": null,
   "id": "1705616a",
   "metadata": {},
   "outputs": [],
   "source": [
    "# 2. De entre sus discos, ¿cuanto cuesta el disco Houses Of The Holy?"
   ]
  },
  {
   "cell_type": "markdown",
   "id": "b12308a7-c818-4022-830e-0e4d4f4a017f",
   "metadata": {},
   "source": [
    "## Actividad 5-1 (Solo compañías)\n",
    "De la tabla Customer crea una vista llamada `Customer_with_companies`, donde estarán incluidos todos los resultados salvo cuando Company sea `NULL`. A partir de la vista realiza las siguientes acciones.\n",
    "1. Ordena los resultados por orden alfabético de `Company`.\n",
    "2. Muestra que compañías son de Brazil."
   ]
  },
  {
   "cell_type": "code",
   "execution_count": null,
   "id": "3ee62bff",
   "metadata": {},
   "outputs": [],
   "source": [
    "# 1. Ordena los resultados por orden alfabético de `Company`."
   ]
  },
  {
   "cell_type": "code",
   "execution_count": null,
   "id": "3ebb67cb",
   "metadata": {},
   "outputs": [],
   "source": [
    "# 2. Muestra que compañías son de Brazil."
   ]
  },
  {
   "cell_type": "markdown",
   "id": "14522796-5604-4fd3-9250-ce8b47d0e2b2",
   "metadata": {},
   "source": [
    "## Actividad 6-1 (Dame la factura)\n",
    "De la tabla `Track`, consigue la siguiente información.\n",
    "1. Cuál es el título de la canción que menos pesa (`Bytes`).\n",
    "2. Cuál es el título de la canción que más dura (`Miliseconds`).\n",
    "3. Cuántas canciones cuestan 1$ o más.\n",
    "4. Cuántas canciones hay de Queen.\n",
    "5. Cuál es la media de duración entre todas las canciones.\n",
    "6. Cuál es la media de peso entre todas las canciones de U2.\n",
    "7. Cuántas canciones esta Bill Berry como Composer (`Compositor`).\n",
    "8. Un Mb son: Bite / 1024 / 1024. Muestra todos los Tracks calculando, y renombrando, la columna Bytes en Mb.\n",
    " "
   ]
  },
  {
   "cell_type": "code",
   "execution_count": null,
   "id": "e4298f5e",
   "metadata": {},
   "outputs": [],
   "source": [
    "# 1. Cuál es el título de la canción que menos pesa (`Bytes`).\n"
   ]
  },
  {
   "cell_type": "code",
   "execution_count": null,
   "id": "b12b91fa",
   "metadata": {},
   "outputs": [],
   "source": [
    "# 2. Cuál es el título de la canción que más dura (`Miliseconds`).\n"
   ]
  },
  {
   "cell_type": "code",
   "execution_count": null,
   "id": "ae2c1276",
   "metadata": {},
   "outputs": [],
   "source": [
    "# 3. Cuántas canciones cuestan 1$ o más.\n"
   ]
  },
  {
   "cell_type": "code",
   "execution_count": null,
   "id": "833f8179",
   "metadata": {},
   "outputs": [],
   "source": [
    "# 4. Cuántas canciones hay de Queen.\n"
   ]
  },
  {
   "cell_type": "code",
   "execution_count": null,
   "id": "95f673eb",
   "metadata": {},
   "outputs": [],
   "source": [
    "# 5. Cuál es la media de duración entre todas las canciones.\n"
   ]
  },
  {
   "cell_type": "code",
   "execution_count": null,
   "id": "3a2a050f",
   "metadata": {},
   "outputs": [],
   "source": [
    "# 6. Cuál es la media de peso entre todas las canciones de U2.\n"
   ]
  },
  {
   "cell_type": "code",
   "execution_count": null,
   "id": "f824874f",
   "metadata": {},
   "outputs": [],
   "source": [
    "# 7. Cuántas canciones esta Bill Berry como Composer (`Compositor`).\n"
   ]
  },
  {
   "cell_type": "code",
   "execution_count": null,
   "id": "b2ba472b",
   "metadata": {},
   "outputs": [],
   "source": [
    "# 8. Un Mb son: Bite / 1024 / 1024. Muestra todos los Tracks calculando, y renombrando, la columna Bytes en Mb."
   ]
  },
  {
   "cell_type": "markdown",
   "id": "fafd061b-c55c-4321-a410-911a24807fa3",
   "metadata": {},
   "source": [
    "## Actividad 7-1 (Buscando facturas)\n",
    "De la tabla `Invoice`, consigue la siguiente información.\n",
    "1. Muestra:  `InvoiceId`, `nombre del cliente` y `BillingCountry`.\n",
    "2. Ordena de mayor a menor por `Total`.\n",
    "3. Cual es el país que más a facturado."
   ]
  },
  {
   "cell_type": "code",
   "execution_count": null,
   "id": "4ec8f189",
   "metadata": {},
   "outputs": [],
   "source": [
    "# 1. Muestra:  `InvoiceId`, `nombre del cliente` y `BillingCountry`.\n"
   ]
  },
  {
   "cell_type": "code",
   "execution_count": null,
   "id": "a6682e6d",
   "metadata": {},
   "outputs": [],
   "source": [
    "# 2. Ordena de mayor a menor por `Total`.\n"
   ]
  },
  {
   "cell_type": "code",
   "execution_count": null,
   "id": "1599850d",
   "metadata": {},
   "outputs": [],
   "source": [
    "# 3. Cual es el país que más a facturado."
   ]
  },
  {
   "cell_type": "markdown",
   "id": "97c6e736-662d-48da-b270-0403c0c32690",
   "metadata": {},
   "source": [
    "## Actividad 8-1 (Alimentado la productora)\n",
    "1. Añade 5 artistas que te gusten en la tabla `Artist`.\n",
    "2. Introduce el `MediaType` Wav.\n",
    "3. Crea 2 discos que estén relacionados con los artistas que has creado."
   ]
  },
  {
   "cell_type": "code",
   "execution_count": null,
   "id": "5bbbec31",
   "metadata": {},
   "outputs": [],
   "source": [
    "# 1. Añade 5 artistas que te gusten en la tabla `Artist`.\n"
   ]
  },
  {
   "cell_type": "code",
   "execution_count": null,
   "id": "5fa74ebb",
   "metadata": {},
   "outputs": [],
   "source": [
    "# 2. Introduce el `MediaType` Wav.\n"
   ]
  },
  {
   "cell_type": "code",
   "execution_count": null,
   "id": "beacbcac",
   "metadata": {},
   "outputs": [],
   "source": [
    "# 3. Crea 2 discos que estén relacionados con los artistas que has creado."
   ]
  },
  {
   "cell_type": "markdown",
   "id": "af5e8efc-e4e2-43bf-835f-9f9f40a87731",
   "metadata": {},
   "source": [
    "## Actividad 9-1 (Artistas desaparecidos)\n",
    "Volvemos a usar la tabla `Artist` (canción). (usa PRAGMA foreign_keys = OFF para desactivar la comprobación)\n",
    "- Borra a U2.\n",
    "- Borra los artistas que tengan en su nombre el símbolo &.\n",
    "- Borra los artistas con una Id entre 201 y 230.\n",
    "- Borra toda la tabla de `Track`."
   ]
  },
  {
   "cell_type": "code",
   "execution_count": null,
   "id": "1f2b4895",
   "metadata": {},
   "outputs": [],
   "source": [
    "# - Borra a U2.\n"
   ]
  },
  {
   "cell_type": "code",
   "execution_count": null,
   "id": "e8a5ee11",
   "metadata": {},
   "outputs": [],
   "source": [
    "# - Borra los artistas que tengan en su nombre el símbolo &.\n"
   ]
  },
  {
   "cell_type": "code",
   "execution_count": null,
   "id": "f1aafc00",
   "metadata": {},
   "outputs": [],
   "source": [
    "# - Borra los artistas con una Id entre 201 y 230.\n"
   ]
  },
  {
   "cell_type": "code",
   "execution_count": null,
   "id": "6911de54",
   "metadata": {},
   "outputs": [],
   "source": [
    "# - Borra toda la tabla de `Track`."
   ]
  },
  {
   "cell_type": "markdown",
   "id": "c548240f-a0d8-4aaf-ae72-1297cb04f539",
   "metadata": {},
   "source": [
    "## Actividad 10-1 (Se acabaron las rebajas)\n",
    "Volvemos a usar la tabla `Track` (canción).\n",
    "- Sube el precio de todas las canciones de 0.99 a 2.99.\n",
    "- Sube el precio de todas las canciones de 1.99 a 4.99.\n",
    "- Cambia el Compositor (`Composer`) por Sara del `TrackId` número 2000.\n",
    "- Cambia el Compositor (`Composer`) por clasico de todas las canciones que empiecen con el nombre Concerto."
   ]
  },
  {
   "cell_type": "code",
   "execution_count": null,
   "id": "10cf1115",
   "metadata": {},
   "outputs": [],
   "source": [
    "# - Sube el precio de todas las canciones de 0.99 a 2.99.\n"
   ]
  },
  {
   "cell_type": "code",
   "execution_count": null,
   "id": "09225a7c",
   "metadata": {},
   "outputs": [],
   "source": [
    "# - Sube el precio de todas las canciones de 1.99 a 4.99.\n"
   ]
  },
  {
   "cell_type": "code",
   "execution_count": null,
   "id": "a07b0f69",
   "metadata": {},
   "outputs": [],
   "source": [
    "# - Cambia el Compositor (`Composer`) por Sara del `TrackId` número 2000.\n"
   ]
  },
  {
   "cell_type": "code",
   "execution_count": null,
   "id": "bfc6d96a",
   "metadata": {},
   "outputs": [],
   "source": [
    "# - Cambia el Compositor (`Composer`) por clasico de todas las canciones que empiecen con el nombre Concerto."
   ]
  }
 ],
 "metadata": {
  "kernelspec": {
   "display_name": "Python 3 (ipykernel)",
   "language": "python",
   "name": "python3"
  },
  "language_info": {
   "codemirror_mode": {
    "name": "ipython",
    "version": 3
   },
   "file_extension": ".py",
   "mimetype": "text/x-python",
   "name": "python",
   "nbconvert_exporter": "python",
   "pygments_lexer": "ipython3",
   "version": "3.12.2"
  }
 },
 "nbformat": 4,
 "nbformat_minor": 5
}
