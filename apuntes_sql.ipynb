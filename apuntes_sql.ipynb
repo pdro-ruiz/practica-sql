{
 "cells": [
  {
   "cell_type": "code",
   "execution_count": null,
   "metadata": {},
   "outputs": [],
   "source": [
    "%load_ext sql"
   ]
  },
  {
   "cell_type": "markdown",
   "metadata": {},
   "source": [
    "# Apuntes de Estudio\n",
    "\n",
    "\n",
    "## Fundamentos y Consultas Avanzadas en SQL\n",
    "\n",
    "---\n",
    "\n",
    "### Introducción a SQL\n",
    "\n",
    "- Qué es SQL?\n",
    "  - SQL (Structured Query Language) es un lenguaje de programación utilizado para gestionar y manipular bases de datos relacionales. Permite realizar operaciones como la creación, modificación y eliminación de datos, así como consultas para recuperar información específica.\n",
    "\n",
    "- Tipos de SQL:\n",
    "  - **DML (Data Manipulation Language)**: Utilizado para realizar operaciones de manipulación de datos, como INSERT, UPDATE, DELETE.\n",
    "  - **DDL (Data Definition Language)**: Utilizado para definir la estructura de la base de datos, como CREATE, ALTER, DROP.\n",
    "  - **DCL (Data Control Language)**: Utilizado para establecer permisos y roles de usuario, como GRANT, REVOKE.\n",
    "  - **TCL (Transaction Control Language)**: Utilizado para gestionar transacciones, como COMMIT, ROLLBACK.\n",
    "\n",
    "\n",
    "\n",
    "### Consultas básicas en SQL\n",
    "\n",
    "- **SELECT:**\n",
    "  - La sentencia SELECT se utiliza para recuperar datos de una o más tablas."
   ]
  },
  {
   "cell_type": "code",
   "execution_count": null,
   "metadata": {},
   "outputs": [],
   "source": [
    "%%sql\n",
    "SELECT columna1, columna2 FROM tabla;"
   ]
  },
  {
   "cell_type": "markdown",
   "metadata": {},
   "source": [
    "- **WHERE:**\n",
    "  - Se utiliza para filtrar los resultados basados en una condición especificada."
   ]
  },
  {
   "cell_type": "code",
   "execution_count": null,
   "metadata": {},
   "outputs": [],
   "source": [
    "%%sql\n",
    "SELECT *\n",
    "FROM empleados\n",
    "WHERE departamento = 'Ventas';"
   ]
  },
  {
   "cell_type": "markdown",
   "metadata": {},
   "source": [
    "- **ORDER BY:**\n",
    "  - Ordena los resultados por una o más columnas especificadas."
   ]
  },
  {
   "cell_type": "code",
   "execution_count": null,
   "metadata": {},
   "outputs": [],
   "source": [
    "%%sql\n",
    "SELECT *\n",
    "FROM productos\n",
    "ORDER BY precio DESC;"
   ]
  },
  {
   "cell_type": "markdown",
   "metadata": {},
   "source": [
    "### Consulta Avanzada en SQL\n",
    "\n",
    "- **JOIN:**\n",
    "  - Combina datos de dos o más tablas basándose en una condición de igualdad entre columnas."
   ]
  },
  {
   "cell_type": "code",
   "execution_count": null,
   "metadata": {},
   "outputs": [],
   "source": [
    "%%sql\n",
    "SELECT e.nombre, d.nombre AS departamento\n",
    "FROM empleados e\n",
    "INNER JOIN departamentos d ON e.id_departamento = d.id;\n"
   ]
  },
  {
   "cell_type": "markdown",
   "metadata": {},
   "source": [
    "- **GROUP BY:**\n",
    "  - Agrupa filas que tienen los mismos valores en una o más columnas y se utiliza con funciones de agregación como COUNT, SUM, AVG."
   ]
  },
  {
   "cell_type": "code",
   "execution_count": null,
   "metadata": {},
   "outputs": [],
   "source": [
    "%%sql\n",
    "SELECT departamento, COUNT(*) AS cantidad_empleados\n",
    "FROM empleados\n",
    "GROUP BY departamento;"
   ]
  },
  {
   "cell_type": "markdown",
   "metadata": {},
   "source": [
    "- **HAVING:**\n",
    "  - Se utiliza en combinación con GROUP BY para filtrar los resultados de las agrupaciones."
   ]
  },
  {
   "cell_type": "code",
   "execution_count": null,
   "metadata": {},
   "outputs": [],
   "source": [
    "%%sql\n",
    "SELECT departamento, COUNT(*) AS cantidad_empleados\n",
    "FROM empleados\n",
    "GROUP BY departamento\n",
    "HAVING COUNT(*) > 5;"
   ]
  },
  {
   "cell_type": "markdown",
   "metadata": {},
   "source": [
    "### Consultas con Funciones de Agregación\n",
    "\n",
    "- **COUNT:**\n",
    "  - Cuenta el número de filas que satisfacen una condición especificada."
   ]
  },
  {
   "cell_type": "code",
   "execution_count": null,
   "metadata": {},
   "outputs": [],
   "source": [
    "%%sql\n",
    "SELECT COUNT(*) AS cantidad_productos\n",
    "FROM productos;"
   ]
  },
  {
   "cell_type": "markdown",
   "metadata": {},
   "source": [
    "- **SUM:**\n",
    "  - Calcula la suma de los valores de una columna."
   ]
  },
  {
   "cell_type": "code",
   "execution_count": null,
   "metadata": {},
   "outputs": [],
   "source": [
    "%%sql\n",
    "SELECT SUM(ingresos) AS total_ingresos\n",
    "FROM ventas;"
   ]
  },
  {
   "cell_type": "markdown",
   "metadata": {},
   "source": [
    "- **AVG:**\n",
    "  - Calcula el promedio de los valores de una columna."
   ]
  },
  {
   "cell_type": "code",
   "execution_count": null,
   "metadata": {},
   "outputs": [],
   "source": [
    "%%sql\n",
    "SELECT AVG(edad) AS promedio_edad\n",
    "FROM empleados;"
   ]
  },
  {
   "cell_type": "markdown",
   "metadata": {},
   "source": [
    "### Subconsultas y Operadores de Comparación\n",
    "\n",
    "- **Subconsultas**\n",
    "  - Una consulta dentro de otra consulta o consultas anidadas."
   ]
  },
  {
   "cell_type": "code",
   "execution_count": null,
   "metadata": {},
   "outputs": [],
   "source": [
    "%%sql\n",
    "SELECT nombre\n",
    "FROM clientes\n",
    "WHERE id IN (SELECT id_cliente FROM pedidos WHERE total > 1000);"
   ]
  },
  {
   "cell_type": "markdown",
   "metadata": {},
   "source": [
    "- **Operadores de Comparación:**\n",
    "  - Utilizados para comparar valores en consultas."
   ]
  },
  {
   "cell_type": "code",
   "execution_count": null,
   "metadata": {},
   "outputs": [],
   "source": [
    "%%sql\n",
    "SELECT *\n",
    "FROM productos\n",
    "WHERE precio BETWEEN 10 AND 50;"
   ]
  },
  {
   "cell_type": "markdown",
   "metadata": {},
   "source": []
  },
  {
   "cell_type": "code",
   "execution_count": null,
   "metadata": {},
   "outputs": [],
   "source": []
  },
  {
   "cell_type": "markdown",
   "metadata": {},
   "source": []
  },
  {
   "cell_type": "code",
   "execution_count": null,
   "metadata": {},
   "outputs": [],
   "source": []
  }
 ],
 "metadata": {
  "kernelspec": {
   "display_name": "Python 3",
   "language": "python",
   "name": "python3"
  },
  "language_info": {
   "name": "python",
   "version": "3.11.2"
  }
 },
 "nbformat": 4,
 "nbformat_minor": 2
}
